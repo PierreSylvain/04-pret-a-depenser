{
 "cells": [
  {
   "cell_type": "markdown",
   "metadata": {
    "_cell_guid": "b1076dfc-b9ad-4769-8c92-a6c4dae69d19",
    "_uuid": "8f2839f25d086af736a60e9eeb907d3b93b6e0e5"
   },
   "source": [
    "# Construisez un modèle de scoring\n",
    "Vous êtes Data Scientist au sein d'une société financière, nommée \"Prêt à dépenser\",  qui propose des crédits à la consommation pour des personnes ayant peu ou pas d'historique de prêt.\n",
    "\n",
    "Pour accorder un crédit à la consommation, l’entreprise calcule la probabilité qu’un client le rembourse, ou non. Elle souhaite donc développer un algorithme de scoring pour aider à décider si un prêt peut être accordé à un client.\n",
    "\n",
    "Les chargés de relation client seront les utilisateurs du modèle de scoring. Puisqu’ils s’adressent aux clients, ils ont besoin que votre modèle soit facilement interprétable. Les chargés de relation souhaitent, en plus, disposer d’une mesure de l’importance des variables qui ont poussé le modèle à donner cette probabilité à un client.\n"
   ]
  },
  {
   "cell_type": "markdown",
   "metadata": {},
   "source": [
    "# Feature selection\n",
    "Nous allons procéder à une sélection des variables les plus intéressantes avec l'algorithme **SelecKbest**.\n",
    "L'algorithme **SelectKBest** va nous permettre de rechercher dans l'ensemble de données celles qui présente une variance élevée. Une variance élevée va augmenter nos chances de faire de bonnes prédictions. \n",
    "Cependant nous allons utiliser toutes les données afin de faire un classement par ordre d'importance. Cela nous permettra d'entrainer un modèle en ajoutant à chaque fois une nouvelle variables.\n",
    "\n",
    "Avant de procéder à la sélection des variables il est nécéssaire de préparer celle-ci, tel que nous l'avons vu lors de l'analyse des données : \n",
    " - Suppression des valeurs aberrantes\n",
    " - Création des nouvelles variables\n",
    " - Suppression des corrélations de plus de 90% en ne gardant que celle qui possèdent le mois de valeurs manquantes.\n",
    " - Suppression la variable  **SK_ID_CURR** qui est l'identifiant de la transaction et donc qui n'est pas nécessaire pour les prédictions\n",
    " - Extraction de la variable **TARGET** qui est la valeur à prédire. \n",
    " - Dans l'analyse précédente nous avons trouvé que certaines variables devaient être crée.\n",
    " - Nous allons transfomer les variables binaires qui sont au format Yes/Non en 0/1\n",
    " - Pour les variables qualitaives nous allons créer une nouvele colonne 'Missing' pour les valeurs manquantes et les transformer en encodage 1 parmi n\n",
    " - Pour les variables quantitatives nous allons remplacer les valeurs manquantes par la médiane des données.\n",
    " - Les données vont êtres standardisées \n"
   ]
  },
  {
   "cell_type": "code",
   "execution_count": 1,
   "metadata": {},
   "outputs": [],
   "source": [
    "import numpy as np\n",
    "import pandas as pd\n",
    "from typing import List\n",
    "from sklearn import preprocessing\n",
    "from sklearn.impute import SimpleImputer\n",
    "from sklearn.preprocessing import StandardScaler\n",
    "from sklearn.feature_selection import SelectKBest\n",
    "from sklearn.feature_selection import f_classif\n",
    "import matplotlib.pyplot as plt\n",
    "import seaborn as sns\n",
    "from imblearn.under_sampling import RandomUnderSampler\n",
    "from imblearn.over_sampling import SMOTE    "
   ]
  },
  {
   "cell_type": "code",
   "execution_count": 2,
   "metadata": {},
   "outputs": [],
   "source": [
    "import warnings\n",
    "warnings.filterwarnings('ignore')\n",
    "pd.set_option('display.float_format', lambda x: '%.3f' % x)"
   ]
  },
  {
   "cell_type": "code",
   "execution_count": 3,
   "metadata": {},
   "outputs": [],
   "source": [
    "from sklearn.pipeline import make_pipeline\n",
    "from sklearn.model_selection import train_test_split\n",
    "from sklearn.linear_model import LogisticRegression\n",
    "from sklearn.metrics import f1_score\n",
    "from sklearn.naive_bayes import GaussianNB\n",
    "from lightgbm import LGBMClassifier\n",
    "from sklearn.ensemble import RandomForestClassifier\n",
    "import lightgbm as lgbm\n",
    "from sklearn.linear_model import SGDClassifier\n",
    "from sklearn.metrics import roc_auc_score\n",
    "from sklearn.metrics import roc_curve"
   ]
  },
  {
   "cell_type": "code",
   "execution_count": 4,
   "metadata": {},
   "outputs": [],
   "source": [
    "#base_directory = \"/kaggle/input/home-credit-default-risk/\"\n",
    "base_directory = \"../data/home-credit-default-risk/\""
   ]
  },
  {
   "cell_type": "code",
   "execution_count": 5,
   "metadata": {},
   "outputs": [],
   "source": [
    "def delete_correlation(df,threshold): \n",
    "    \"\"\"\n",
    "    Teste la corrélation entre toutes les variabes du dataset et si la corrélation\n",
    "    est supérieure à la valeur de threshold, la variable ayant les plus de valeur\n",
    "    manquantes est supprimée.\n",
    "    \"\"\"\n",
    "    corr_list = []\n",
    "    corr = df.corr()\n",
    "    for i in range(len(corr)):\n",
    "        for j in range(i):\n",
    "           \n",
    "            if corr.iloc[i,j] >= threshold:\n",
    "                \n",
    "                #print(f\"{corr.iloc[i,j] * 100:.2f} de corrélation entre {corr.columns[i]} et {corr.columns[j]}\")\n",
    "                \n",
    "                if corr.columns[j] in df.columns and corr.columns[j] in df.columns:                            \n",
    "                    A = df[corr.columns[i]].isna().sum()\n",
    "                    B = df[corr.columns[j]].isna().sum()\n",
    "                    if A <= B:\n",
    "                        df.drop(corr.columns[j], axis=1, inplace=True)\n",
    "                    else:\n",
    "                        df.drop(corr.columns[i], axis=1, inplace=True)\n",
    "    return df"
   ]
  },
  {
   "cell_type": "code",
   "execution_count": 6,
   "metadata": {},
   "outputs": [],
   "source": [
    "def getScore(elem):\n",
    "    return elem[1]"
   ]
  },
  {
   "cell_type": "code",
   "execution_count": 7,
   "metadata": {},
   "outputs": [],
   "source": [
    "def optimize_floats(df: pd.DataFrame) -> pd.DataFrame:\n",
    "    floats = df.select_dtypes(include=['float64']).columns.tolist()\n",
    "    df[floats] = df[floats].apply(pd.to_numeric, downcast='float')\n",
    "    return df\n",
    "\n",
    "\n",
    "def optimize_ints(df: pd.DataFrame) -> pd.DataFrame:\n",
    "    ints = df.select_dtypes(include=['int64']).columns.tolist()\n",
    "    df[ints] = df[ints].apply(pd.to_numeric, downcast='integer')\n",
    "    return df\n",
    "\n",
    "\n",
    "def optimize_objects(df: pd.DataFrame, datetime_features: List[str]) -> pd.DataFrame:\n",
    "    for col in df.select_dtypes(include=['object']):\n",
    "        if col not in datetime_features:\n",
    "            num_unique_values = len(df[col].unique())\n",
    "            num_total_values = len(df[col])\n",
    "            if float(num_unique_values) / num_total_values < 0.5:\n",
    "                df[col] = df[col].astype('object')\n",
    "        else:\n",
    "            df[col] = pd.to_datetime(df[col])\n",
    "    return df\n",
    "\n",
    "\n",
    "\n",
    "def optimize(df: pd.DataFrame, datetime_features: List[str] = []):\n",
    "    return optimize_floats(optimize_ints(optimize_objects(df, datetime_features)))\n",
    "\n",
    "\n",
    "def optimized_merge(df1, df2, merge_column):    \n",
    "    df2 = df2[df2[merge_column].isin(df1[merge_column])]\n",
    "    df2 = df2.sample(frac=.20)\n",
    "    return df1.merge(df2, how= 'left', on=merge_column)\n"
   ]
  },
  {
   "cell_type": "markdown",
   "metadata": {},
   "source": [
    "## Chargement des données"
   ]
  },
  {
   "cell_type": "code",
   "execution_count": 8,
   "metadata": {},
   "outputs": [
    {
     "data": {
      "text/html": [
       "<div>\n",
       "<style scoped>\n",
       "    .dataframe tbody tr th:only-of-type {\n",
       "        vertical-align: middle;\n",
       "    }\n",
       "\n",
       "    .dataframe tbody tr th {\n",
       "        vertical-align: top;\n",
       "    }\n",
       "\n",
       "    .dataframe thead th {\n",
       "        text-align: right;\n",
       "    }\n",
       "</style>\n",
       "<table border=\"1\" class=\"dataframe\">\n",
       "  <thead>\n",
       "    <tr style=\"text-align: right;\">\n",
       "      <th></th>\n",
       "      <th>SK_ID_CURR</th>\n",
       "      <th>TARGET</th>\n",
       "      <th>NAME_CONTRACT_TYPE</th>\n",
       "      <th>CODE_GENDER</th>\n",
       "      <th>FLAG_OWN_CAR</th>\n",
       "      <th>FLAG_OWN_REALTY</th>\n",
       "      <th>CNT_CHILDREN</th>\n",
       "      <th>AMT_INCOME_TOTAL</th>\n",
       "      <th>AMT_CREDIT</th>\n",
       "      <th>AMT_ANNUITY</th>\n",
       "      <th>...</th>\n",
       "      <th>FLAG_DOCUMENT_18</th>\n",
       "      <th>FLAG_DOCUMENT_19</th>\n",
       "      <th>FLAG_DOCUMENT_20</th>\n",
       "      <th>FLAG_DOCUMENT_21</th>\n",
       "      <th>AMT_REQ_CREDIT_BUREAU_HOUR</th>\n",
       "      <th>AMT_REQ_CREDIT_BUREAU_DAY</th>\n",
       "      <th>AMT_REQ_CREDIT_BUREAU_WEEK</th>\n",
       "      <th>AMT_REQ_CREDIT_BUREAU_MON</th>\n",
       "      <th>AMT_REQ_CREDIT_BUREAU_QRT</th>\n",
       "      <th>AMT_REQ_CREDIT_BUREAU_YEAR</th>\n",
       "    </tr>\n",
       "  </thead>\n",
       "  <tbody>\n",
       "    <tr>\n",
       "      <th>0</th>\n",
       "      <td>100002</td>\n",
       "      <td>1</td>\n",
       "      <td>Cash loans</td>\n",
       "      <td>M</td>\n",
       "      <td>N</td>\n",
       "      <td>Y</td>\n",
       "      <td>0</td>\n",
       "      <td>202500.000</td>\n",
       "      <td>406597.500</td>\n",
       "      <td>24700.500</td>\n",
       "      <td>...</td>\n",
       "      <td>0</td>\n",
       "      <td>0</td>\n",
       "      <td>0</td>\n",
       "      <td>0</td>\n",
       "      <td>0.000</td>\n",
       "      <td>0.000</td>\n",
       "      <td>0.000</td>\n",
       "      <td>0.000</td>\n",
       "      <td>0.000</td>\n",
       "      <td>1.000</td>\n",
       "    </tr>\n",
       "    <tr>\n",
       "      <th>1</th>\n",
       "      <td>100003</td>\n",
       "      <td>0</td>\n",
       "      <td>Cash loans</td>\n",
       "      <td>F</td>\n",
       "      <td>N</td>\n",
       "      <td>N</td>\n",
       "      <td>0</td>\n",
       "      <td>270000.000</td>\n",
       "      <td>1293502.500</td>\n",
       "      <td>35698.500</td>\n",
       "      <td>...</td>\n",
       "      <td>0</td>\n",
       "      <td>0</td>\n",
       "      <td>0</td>\n",
       "      <td>0</td>\n",
       "      <td>0.000</td>\n",
       "      <td>0.000</td>\n",
       "      <td>0.000</td>\n",
       "      <td>0.000</td>\n",
       "      <td>0.000</td>\n",
       "      <td>0.000</td>\n",
       "    </tr>\n",
       "    <tr>\n",
       "      <th>2</th>\n",
       "      <td>100004</td>\n",
       "      <td>0</td>\n",
       "      <td>Revolving loans</td>\n",
       "      <td>M</td>\n",
       "      <td>Y</td>\n",
       "      <td>Y</td>\n",
       "      <td>0</td>\n",
       "      <td>67500.000</td>\n",
       "      <td>135000.000</td>\n",
       "      <td>6750.000</td>\n",
       "      <td>...</td>\n",
       "      <td>0</td>\n",
       "      <td>0</td>\n",
       "      <td>0</td>\n",
       "      <td>0</td>\n",
       "      <td>0.000</td>\n",
       "      <td>0.000</td>\n",
       "      <td>0.000</td>\n",
       "      <td>0.000</td>\n",
       "      <td>0.000</td>\n",
       "      <td>0.000</td>\n",
       "    </tr>\n",
       "    <tr>\n",
       "      <th>3</th>\n",
       "      <td>100006</td>\n",
       "      <td>0</td>\n",
       "      <td>Cash loans</td>\n",
       "      <td>F</td>\n",
       "      <td>N</td>\n",
       "      <td>Y</td>\n",
       "      <td>0</td>\n",
       "      <td>135000.000</td>\n",
       "      <td>312682.500</td>\n",
       "      <td>29686.500</td>\n",
       "      <td>...</td>\n",
       "      <td>0</td>\n",
       "      <td>0</td>\n",
       "      <td>0</td>\n",
       "      <td>0</td>\n",
       "      <td>nan</td>\n",
       "      <td>nan</td>\n",
       "      <td>nan</td>\n",
       "      <td>nan</td>\n",
       "      <td>nan</td>\n",
       "      <td>nan</td>\n",
       "    </tr>\n",
       "    <tr>\n",
       "      <th>4</th>\n",
       "      <td>100007</td>\n",
       "      <td>0</td>\n",
       "      <td>Cash loans</td>\n",
       "      <td>M</td>\n",
       "      <td>N</td>\n",
       "      <td>Y</td>\n",
       "      <td>0</td>\n",
       "      <td>121500.000</td>\n",
       "      <td>513000.000</td>\n",
       "      <td>21865.500</td>\n",
       "      <td>...</td>\n",
       "      <td>0</td>\n",
       "      <td>0</td>\n",
       "      <td>0</td>\n",
       "      <td>0</td>\n",
       "      <td>0.000</td>\n",
       "      <td>0.000</td>\n",
       "      <td>0.000</td>\n",
       "      <td>0.000</td>\n",
       "      <td>0.000</td>\n",
       "      <td>0.000</td>\n",
       "    </tr>\n",
       "  </tbody>\n",
       "</table>\n",
       "<p>5 rows × 122 columns</p>\n",
       "</div>"
      ],
      "text/plain": [
       "   SK_ID_CURR  TARGET NAME_CONTRACT_TYPE CODE_GENDER FLAG_OWN_CAR  \\\n",
       "0      100002       1         Cash loans           M            N   \n",
       "1      100003       0         Cash loans           F            N   \n",
       "2      100004       0    Revolving loans           M            Y   \n",
       "3      100006       0         Cash loans           F            N   \n",
       "4      100007       0         Cash loans           M            N   \n",
       "\n",
       "  FLAG_OWN_REALTY  CNT_CHILDREN  AMT_INCOME_TOTAL  AMT_CREDIT  AMT_ANNUITY  \\\n",
       "0               Y             0        202500.000  406597.500    24700.500   \n",
       "1               N             0        270000.000 1293502.500    35698.500   \n",
       "2               Y             0         67500.000  135000.000     6750.000   \n",
       "3               Y             0        135000.000  312682.500    29686.500   \n",
       "4               Y             0        121500.000  513000.000    21865.500   \n",
       "\n",
       "   ...  FLAG_DOCUMENT_18 FLAG_DOCUMENT_19 FLAG_DOCUMENT_20 FLAG_DOCUMENT_21  \\\n",
       "0  ...                 0                0                0                0   \n",
       "1  ...                 0                0                0                0   \n",
       "2  ...                 0                0                0                0   \n",
       "3  ...                 0                0                0                0   \n",
       "4  ...                 0                0                0                0   \n",
       "\n",
       "  AMT_REQ_CREDIT_BUREAU_HOUR AMT_REQ_CREDIT_BUREAU_DAY  \\\n",
       "0                      0.000                     0.000   \n",
       "1                      0.000                     0.000   \n",
       "2                      0.000                     0.000   \n",
       "3                        nan                       nan   \n",
       "4                      0.000                     0.000   \n",
       "\n",
       "   AMT_REQ_CREDIT_BUREAU_WEEK  AMT_REQ_CREDIT_BUREAU_MON  \\\n",
       "0                       0.000                      0.000   \n",
       "1                       0.000                      0.000   \n",
       "2                       0.000                      0.000   \n",
       "3                         nan                        nan   \n",
       "4                       0.000                      0.000   \n",
       "\n",
       "   AMT_REQ_CREDIT_BUREAU_QRT  AMT_REQ_CREDIT_BUREAU_YEAR  \n",
       "0                      0.000                       1.000  \n",
       "1                      0.000                       0.000  \n",
       "2                      0.000                       0.000  \n",
       "3                        nan                         nan  \n",
       "4                      0.000                       0.000  \n",
       "\n",
       "[5 rows x 122 columns]"
      ]
     },
     "execution_count": 8,
     "metadata": {},
     "output_type": "execute_result"
    }
   ],
   "source": [
    "# Chargement des données\n",
    "application_train = pd.read_csv(base_directory + 'application_train.csv')\n",
    "\n",
    "# Optimisation des variables pour réduire l'empreinte mémoire\n",
    "application_train = optimize(application_train)\n",
    "application_train.head()"
   ]
  },
  {
   "cell_type": "markdown",
   "metadata": {},
   "source": [
    "## Valeurs aberrantes"
   ]
  },
  {
   "cell_type": "code",
   "execution_count": 9,
   "metadata": {},
   "outputs": [],
   "source": [
    "application_train = application_train.drop(index=application_train.loc[application_train['AMT_INCOME_TOTAL'] == 117000000].index)"
   ]
  },
  {
   "cell_type": "markdown",
   "metadata": {},
   "source": [
    "## Création des nouvelles variables"
   ]
  },
  {
   "cell_type": "code",
   "execution_count": 10,
   "metadata": {},
   "outputs": [],
   "source": [
    "application_train['YEARS_BIRTH'] = abs(application_train['DAYS_BIRTH']) / 365.25\n",
    "application_train = application_train.drop('DAYS_BIRTH', axis=1)\n",
    "\n",
    "application_train['DAYS_EMPLOYED']  = application_train['DAYS_EMPLOYED'].replace([365243],np.NaN)   \n",
    "application_train['YEARS_EMPLOYED'] = abs(application_train['DAYS_EMPLOYED']) / 365.25\n",
    "application_train = application_train.drop('DAYS_EMPLOYED', axis=1)\n",
    "\n",
    "application_train['YEARS_REGISTRATION'] = abs(application_train['DAYS_REGISTRATION']) / 365.25\n",
    "application_train = application_train.drop('DAYS_REGISTRATION', axis=1)\n",
    "\n",
    "application_train['YEARS_ID_PUBLISH'] = abs(application_train['DAYS_ID_PUBLISH']) / 365.25\n",
    "application_train = application_train.drop('DAYS_ID_PUBLISH', axis=1)\n"
   ]
  },
  {
   "cell_type": "code",
   "execution_count": 11,
   "metadata": {},
   "outputs": [],
   "source": [
    "application_train['PAYMENT_RATE'] = (application_train['AMT_ANNUITY'] / application_train['AMT_CREDIT']) * 100\n",
    "application_train['INCOME_CREDIT_RATE'] = (application_train['AMT_INCOME_TOTAL'] / application_train['AMT_CREDIT']) * 100\n",
    "application_train['ANNUITY_INCOME_RATE'] = (application_train['AMT_ANNUITY'] / application_train['AMT_INCOME_TOTAL']) * 100\n",
    "application_train['INCOME_PER_PERSON'] = application_train['AMT_INCOME_TOTAL'] / application_train['CNT_FAM_MEMBERS']"
   ]
  },
  {
   "cell_type": "markdown",
   "metadata": {},
   "source": [
    "## Transformation de variables"
   ]
  },
  {
   "cell_type": "code",
   "execution_count": 12,
   "metadata": {},
   "outputs": [],
   "source": [
    "application_train['AMT_INCOME_TOTAL_LOG'] = np.log(application_train['AMT_INCOME_TOTAL'])"
   ]
  },
  {
   "cell_type": "markdown",
   "metadata": {},
   "source": [
    "## Suppression des variables qui ont plus de 90% de corrélation "
   ]
  },
  {
   "cell_type": "code",
   "execution_count": 13,
   "metadata": {},
   "outputs": [],
   "source": [
    "application_train = delete_correlation(application_train, 0.9)"
   ]
  },
  {
   "cell_type": "markdown",
   "metadata": {},
   "source": [
    "## Séparation des variables explicatives et de la variable à prédire et suppression de SK_ID_CURR"
   ]
  },
  {
   "cell_type": "code",
   "execution_count": 14,
   "metadata": {},
   "outputs": [],
   "source": [
    "target = application_train['TARGET']\n",
    "application_train = application_train.drop(['TARGET','SK_ID_CURR'], axis=1)"
   ]
  },
  {
   "cell_type": "markdown",
   "metadata": {},
   "source": [
    "## Imputation des variables binaires"
   ]
  },
  {
   "cell_type": "code",
   "execution_count": 15,
   "metadata": {},
   "outputs": [],
   "source": [
    "le = preprocessing.LabelEncoder()\n",
    "application_train['FLAG_OWN_CAR'] = le.fit_transform(application_train['FLAG_OWN_CAR'])\n",
    "application_train['FLAG_OWN_REALTY'] = le.fit_transform(application_train['FLAG_OWN_REALTY'])"
   ]
  },
  {
   "cell_type": "markdown",
   "metadata": {},
   "source": [
    "## Imputation des variable qualitatives"
   ]
  },
  {
   "cell_type": "code",
   "execution_count": 16,
   "metadata": {},
   "outputs": [],
   "source": [
    "application_train['CODE_GENDER']  = application_train['CODE_GENDER'].replace('XNA',np.NaN)    "
   ]
  },
  {
   "cell_type": "code",
   "execution_count": 17,
   "metadata": {},
   "outputs": [],
   "source": [
    "for obj in application_train.select_dtypes(exclude=[np.number]).columns:    \n",
    "    application_train[obj] = application_train[obj].fillna('Missing')\n",
    "\n",
    "application_train = pd.get_dummies(application_train, drop_first=False)    "
   ]
  },
  {
   "cell_type": "markdown",
   "metadata": {},
   "source": [
    "## Imputation des variables quantitatives avec la médiane"
   ]
  },
  {
   "cell_type": "code",
   "execution_count": 18,
   "metadata": {},
   "outputs": [],
   "source": [
    "imp_median = SimpleImputer(missing_values=np.nan, strategy='median')\n",
    "\n",
    "for num in application_train.select_dtypes(include=['number']).columns:\n",
    "    application_train[num] = application_train[num].fillna(application_train[num].median())"
   ]
  },
  {
   "cell_type": "markdown",
   "metadata": {},
   "source": [
    "## Normalisation des données"
   ]
  },
  {
   "cell_type": "code",
   "execution_count": 19,
   "metadata": {},
   "outputs": [],
   "source": [
    "scaler = StandardScaler()\n",
    "scaler.fit(application_train)\n",
    "X_train = scaler.transform(application_train)"
   ]
  },
  {
   "cell_type": "markdown",
   "metadata": {},
   "source": [
    "## Classement des variables expliquatives"
   ]
  },
  {
   "cell_type": "code",
   "execution_count": 20,
   "metadata": {
    "scrolled": true
   },
   "outputs": [
    {
     "name": "stdout",
     "output_type": "stream",
     "text": [
      "['EXT_SOURCE_2', 8107.639122074546]\n",
      "['EXT_SOURCE_3', 7657.3277506918175]\n",
      "['EXT_SOURCE_1', 3036.5826112159425]\n",
      "['YEARS_BIRTH', 1893.625145120539]\n",
      "['YEARS_EMPLOYED', 1239.5608557808469]\n",
      "['REGION_RATING_CLIENT_W_CITY', 1144.5261968911693]\n",
      "['NAME_INCOME_TYPE_Working', 1019.064298035284]\n",
      "['NAME_EDUCATION_TYPE_Higher education', 987.8483672441569]\n",
      "['DAYS_LAST_PHONE_CHANGE', 940.07821365642]\n",
      "['CODE_GENDER_M', 923.5856081320018]\n",
      "['CODE_GENDER_F', 923.2934872759644]\n",
      "['YEARS_ID_PUBLISH', 816.574732312459]\n",
      "['REG_CITY_NOT_WORK_CITY', 801.9594469060363]\n",
      "['NAME_EDUCATION_TYPE_Secondary / secondary special', 765.0723792632053]\n",
      "['NAME_INCOME_TYPE_Pensioner', 657.9083748971163]\n",
      "['ORGANIZATION_TYPE_XNA', 651.5782294801165]\n",
      "['FLAG_EMP_PHONE', 651.4402273608919]\n",
      "['REG_CITY_NOT_LIVE_CITY', 607.3899000823561]\n",
      "['FLAG_DOCUMENT_3', 605.7676754612307]\n",
      "['OCCUPATION_TYPE_Laborers', 569.5454635684054]\n",
      "['EMERGENCYSTATE_MODE_No', 548.9324711938636]\n",
      "['YEARS_REGISTRATION', 542.9151699750465]\n",
      "['EMERGENCYSTATE_MODE_Missing', 528.0336155064675]\n",
      "['HOUSETYPE_MODE_block of flats', 507.870611572931]\n",
      "['HOUSETYPE_MODE_Missing', 486.25860789562165]\n",
      "['WALLSMATERIAL_MODE_Missing', 478.22678094026827]\n",
      "['FLOORSMAX_MEDI', 472.16600840024745]\n",
      "['OCCUPATION_TYPE_Missing', 460.8335038268627]\n",
      "['REGION_POPULATION_RELATIVE', 426.5849955316763]\n",
      "['ELEVATORS_MEDI', 389.0810632844829]\n",
      "['WALLSMATERIAL_MODE_Panel', 337.5627872562482]\n",
      "['LIVE_CITY_NOT_WORK_CITY', 325.6314423520149]\n",
      "['DEF_30_CNT_SOCIAL_CIRCLE', 323.11562367910227]\n",
      "['DEF_60_CNT_SOCIAL_CIRCLE', 303.5699338085012]\n",
      "['NAME_CONTRACT_TYPE_Cash loans', 293.75764246805636]\n",
      "['NAME_CONTRACT_TYPE_Revolving loans', 293.75764246805636]\n",
      "['AMT_CREDIT', 283.8663538502358]\n",
      "['OCCUPATION_TYPE_Drivers', 282.7073297158927]\n",
      "['TOTALAREA_MODE', 280.94797484750325]\n",
      "['NAME_HOUSING_TYPE_With parents', 276.4316843570892]\n",
      "['FONDKAPREMONT_MODE_Missing', 267.285859471657]\n",
      "['ORGANIZATION_TYPE_Self-employed', 261.4021220656189]\n",
      "['FLAG_DOCUMENT_6', 251.71785350584656]\n",
      "['NAME_HOUSING_TYPE_House / apartment', 251.0192614370995]\n",
      "['FLAG_WORK_PHONE', 250.50933089867667]\n",
      "['OCCUPATION_TYPE_Low-skill Laborers', 234.29393531395436]\n",
      "['NAME_FAMILY_STATUS_Single / not married', 216.47888485821233]\n",
      "['NAME_FAMILY_STATUS_Married', 193.1071705659936]\n",
      "['HOUR_APPR_PROCESS_START', 179.78943931734344]\n",
      "['ORGANIZATION_TYPE_Business Entity Type 3', 176.8206218248668]\n",
      "['FLAG_PHONE', 174.28160063705047]\n",
      "['NAME_INCOME_TYPE_State servant', 169.10962445065178]\n",
      "['FONDKAPREMONT_MODE_reg oper account', 156.88296781115187]\n",
      "['NAME_FAMILY_STATUS_Civil marriage', 155.7586771710565]\n",
      "['FLAG_OWN_CAR', 146.7937176118332]\n",
      "['OCCUPATION_TYPE_Accountants', 143.6559427034713]\n",
      "['FLOORSMIN_MEDI', 135.6052783329306]\n",
      "['AMT_INCOME_TOTAL', 128.78104521636803]\n",
      "['OCCUPATION_TYPE_Core staff', 127.70993201172857]\n",
      "['ORGANIZATION_TYPE_Construction', 120.52796197914694]\n",
      "['NAME_HOUSING_TYPE_Rented apartment', 120.22488380433519]\n",
      "['OCCUPATION_TYPE_Sales staff', 117.47152792442812]\n",
      "['NAME_FAMILY_STATUS_Widow', 115.6847230731835]\n",
      "['CNT_CHILDREN', 113.14940463187487]\n",
      "['OCCUPATION_TYPE_Managers', 106.94200222646631]\n",
      "['AMT_INCOME_TOTAL_LOG', 106.85689633916351]\n",
      "['NONLIVINGAREA_MEDI', 100.68695141810122]\n",
      "['ORGANIZATION_TYPE_Transport: type 3', 94.77344270089569]\n",
      "['BASEMENTAREA_MEDI', 91.61284593903073]\n",
      "['COMMONAREA_MEDI', 81.3715299879992]\n",
      "['OWN_CAR_AGE', 78.57982599613577]\n",
      "['ENTRANCES_MEDI', 76.24371386962045]\n",
      "['INCOME_PER_PERSON', 68.64292756289419]\n",
      "['AMT_REQ_CREDIT_BUREAU_MON', 67.28966276766255]\n",
      "['OCCUPATION_TYPE_Security staff', 66.01504926542715]\n",
      "['ANNUITY_INCOME_RATE', 62.79593403481007]\n",
      "['OCCUPATION_TYPE_High skill tech staff', 58.265769808445384]\n",
      "['ORGANIZATION_TYPE_School', 57.47032093191305]\n",
      "['AMT_ANNUITY', 50.503191110090825]\n",
      "['PAYMENT_RATE', 49.67787253583872]\n",
      "['WALLSMATERIAL_MODE_Stone, brick', 49.43582890163649]\n",
      "['LANDAREA_MEDI', 46.32013910094819]\n",
      "['OCCUPATION_TYPE_Cooking staff', 45.954021720395396]\n",
      "['AMT_REQ_CREDIT_BUREAU_YEAR', 45.52367583724996]\n",
      "['NAME_INCOME_TYPE_Commercial associate', 43.551006798321566]\n",
      "['NAME_EDUCATION_TYPE_Lower secondary', 42.44930011836647]\n",
      "['FLAG_DOCUMENT_16', 41.48229576708799]\n",
      "['FLAG_DOCUMENT_13', 41.26108244333688]\n",
      "['YEARS_BUILD_MEDI', 39.71681480562902]\n",
      "['FONDKAPREMONT_MODE_org spec account', 39.15629961358269]\n",
      "['FONDKAPREMONT_MODE_reg oper spec account', 38.961141259253594]\n",
      "['ORGANIZATION_TYPE_Medicine', 34.66635145785127]\n",
      "['ORGANIZATION_TYPE_Restaurant', 32.41580612091231]\n",
      "['ORGANIZATION_TYPE_Military', 31.101653251930014]\n",
      "['ORGANIZATION_TYPE_Police', 30.0547489608348]\n",
      "['ORGANIZATION_TYPE_Industry: type 3', 28.890640975531426]\n",
      "['ORGANIZATION_TYPE_Bank', 28.393146523662256]\n",
      "['ORGANIZATION_TYPE_Security Ministries', 27.577806655692587]\n",
      "['FLAG_DOCUMENT_14', 27.541644116122995]\n",
      "['WALLSMATERIAL_MODE_Monolithic', 27.0756029118045]\n",
      "['OBS_60_CNT_SOCIAL_CIRCLE', 26.85031988675117]\n",
      "['INCOME_CREDIT_RATE', 26.74395582402115]\n",
      "['CNT_FAM_MEMBERS', 26.587678747198026]\n",
      "['ORGANIZATION_TYPE_Trade: type 3', 24.42710977974807]\n",
      "['NAME_INCOME_TYPE_Unemployed', 23.731495188321293]\n",
      "['OCCUPATION_TYPE_Medicine staff', 22.285643729537412]\n",
      "['NAME_TYPE_SUITE_Unaccompanied', 21.163660801687843]\n",
      "['NAME_TYPE_SUITE_Family', 20.790313857272626]\n",
      "['ORGANIZATION_TYPE_Trade: type 7', 20.534401402734296]\n",
      "['FLAG_DOCUMENT_8', 19.865587436914584]\n",
      "['FLAG_DOCUMENT_18', 19.44402897791976]\n",
      "['WALLSMATERIAL_MODE_Wooden', 19.42654562788685]\n",
      "['ORGANIZATION_TYPE_Agriculture', 19.20370025129313]\n",
      "['OCCUPATION_TYPE_Waiters/barmen staff', 18.72324781453855]\n",
      "['ORGANIZATION_TYPE_University', 18.09733520448085]\n",
      "['ORGANIZATION_TYPE_Government', 17.38369058364384]\n",
      "['ORGANIZATION_TYPE_Security', 16.06334698877786]\n",
      "['OCCUPATION_TYPE_Cleaning staff', 14.984264554348238]\n",
      "['REG_REGION_NOT_WORK_REGION', 14.830939152304937]\n",
      "['WALLSMATERIAL_MODE_Block', 14.115487918079765]\n",
      "['FLAG_DOCUMENT_15', 13.134661271253718]\n",
      "['ORGANIZATION_TYPE_Industry: type 1', 12.608241147203291]\n",
      "['NAME_TYPE_SUITE_Missing', 12.321252071079494]\n",
      "['FLAG_OWN_REALTY', 11.653104774266527]\n",
      "['ORGANIZATION_TYPE_Transport: type 4', 10.816017595038831]\n",
      "['AMT_REQ_CREDIT_BUREAU_QRT', 10.451717068255668]\n",
      "['ORGANIZATION_TYPE_Trade: type 6', 10.299375056393457]\n",
      "['ORGANIZATION_TYPE_Kindergarten', 10.212037954411283]\n",
      "['NONLIVINGAPARTMENTS_MEDI', 9.811834310798034]\n",
      "['REG_REGION_NOT_LIVE_REGION', 9.566098929451641]\n",
      "['ORGANIZATION_TYPE_Industry: type 12', 9.11365337322106]\n",
      "['FLAG_DOCUMENT_2', 9.02479804949976]\n",
      "['ORGANIZATION_TYPE_Industry: type 9', 8.892487627869619]\n",
      "['HOUSETYPE_MODE_specific housing', 8.677029874930627]\n",
      "['NAME_EDUCATION_TYPE_Academic degree', 8.61901729237635]\n",
      "['WEEKDAY_APPR_PROCESS_START_MONDAY', 8.138656270611818]\n",
      "['NAME_HOUSING_TYPE_Office apartment', 8.004762269418213]\n",
      "['OCCUPATION_TYPE_Private service staff', 7.829910961815271]\n",
      "['NAME_TYPE_SUITE_Other_B', 7.413635574383965]\n",
      "['YEARS_BEGINEXPLUATATION_MEDI', 7.298134021279169]\n",
      "['EMERGENCYSTATE_MODE_Yes', 7.173733566806885]\n",
      "['NAME_INCOME_TYPE_Maternity leave', 6.868373970963782]\n",
      "['WEEKDAY_APPR_PROCESS_START_TUESDAY', 6.719126912223875]\n",
      "['FLAG_DOCUMENT_9', 5.82375479456043]\n",
      "['FLAG_DOCUMENT_11', 5.499031508410449]\n",
      "['ORGANIZATION_TYPE_Industry: type 4', 5.106164917131605]\n",
      "['ORGANIZATION_TYPE_Services', 4.606189262367161]\n",
      "['ORGANIZATION_TYPE_Insurance', 4.5559996596134384]\n",
      "['ORGANIZATION_TYPE_Other', 4.396713422200223]\n",
      "['FLAG_DOCUMENT_21', 4.230107157099134]\n",
      "['ORGANIZATION_TYPE_Hotel', 3.573963380311043]\n",
      "['FLAG_DOCUMENT_17', 3.507840706325698]\n",
      "['ORGANIZATION_TYPE_Transport: type 1', 3.5028001972924927]\n",
      "['ORGANIZATION_TYPE_Realtor', 3.429520433204886]\n",
      "['NAME_HOUSING_TYPE_Municipal apartment', 3.412958719416076]\n",
      "['ORGANIZATION_TYPE_Cleaning', 3.3292206519724057]\n",
      "['ORGANIZATION_TYPE_Culture', 3.277469624444917]\n",
      "['ORGANIZATION_TYPE_Business Entity Type 2', 3.059352407767361]\n",
      "['ORGANIZATION_TYPE_Trade: type 2', 2.963813629604637]\n",
      "['ORGANIZATION_TYPE_Electricity', 2.666497209386071]\n",
      "['ORGANIZATION_TYPE_Industry: type 13', 2.5946766713944984]\n",
      "['LIVE_REGION_NOT_WORK_REGION', 2.4485528641666545]\n",
      "['NAME_EDUCATION_TYPE_Incomplete higher', 2.436542641249348]\n",
      "['FLAG_DOCUMENT_4', 2.195548603125974]\n",
      "['FONDKAPREMONT_MODE_not specified', 2.1854813594259976]\n",
      "['NAME_TYPE_SUITE_Children', 2.1541711119706632]\n",
      "['OCCUPATION_TYPE_HR staff', 2.1407645062503238]\n",
      "['ORGANIZATION_TYPE_Trade: type 4', 2.111539107062656]\n",
      "['OCCUPATION_TYPE_Secretaries', 1.847394016975448]\n",
      "['OCCUPATION_TYPE_IT staff', 1.8374862177165758]\n",
      "['WEEKDAY_APPR_PROCESS_START_SATURDAY', 1.7602343245805434]\n",
      "['NAME_INCOME_TYPE_Student', 1.580755847396371]\n",
      "['ORGANIZATION_TYPE_Industry: type 11', 1.2420221801870053]\n",
      "['ORGANIZATION_TYPE_Industry: type 5', 1.2192695821270134]\n",
      "['FLAG_EMAIL', 0.947918181792631]\n",
      "['WALLSMATERIAL_MODE_Mixed', 0.9013882874793814]\n",
      "['AMT_REQ_CREDIT_BUREAU_DAY', 0.8905316362829355]\n",
      "['NAME_INCOME_TYPE_Businessman', 0.8781728391629815]\n",
      "['FLAG_DOCUMENT_7', 0.7098879740312903]\n",
      "['ORGANIZATION_TYPE_Emergency', 0.6534765061369837]\n",
      "['WEEKDAY_APPR_PROCESS_START_WEDNESDAY', 0.6487343847651712]\n",
      "['NAME_TYPE_SUITE_Spouse, partner', 0.6427125541010078]\n",
      "['ORGANIZATION_TYPE_Industry: type 8', 0.6339959560899348]\n",
      "['FLAG_DOCUMENT_10', 0.614714463532132]\n",
      "['NAME_TYPE_SUITE_Other_A', 0.5790098865172687]\n",
      "['FLAG_DOCUMENT_19', 0.5664914415297828]\n",
      "['ORGANIZATION_TYPE_Religion', 0.5496153257602748]\n",
      "['AMT_REQ_CREDIT_BUREAU_WEEK', 0.5228792854877682]\n",
      "['ORGANIZATION_TYPE_Mobile', 0.49478357416931373]\n",
      "['WEEKDAY_APPR_PROCESS_START_SUNDAY', 0.4741426468408136]\n",
      "['ORGANIZATION_TYPE_Industry: type 2', 0.46498038456730884]\n",
      "['WEEKDAY_APPR_PROCESS_START_FRIDAY', 0.44829191391117096]\n",
      "['NAME_FAMILY_STATUS_Separated', 0.4213422043217552]\n",
      "['ORGANIZATION_TYPE_Industry: type 10', 0.4003001125376934]\n",
      "['ORGANIZATION_TYPE_Postal', 0.3901039063740689]\n",
      "['CODE_GENDER_Missing', 0.3512616798810692]\n",
      "['ORGANIZATION_TYPE_Trade: type 1', 0.3276917251888466]\n",
      "['HOUSETYPE_MODE_terraced house', 0.2972359723376297]\n",
      "['ORGANIZATION_TYPE_Trade: type 5', 0.25115056600069247]\n",
      "['ORGANIZATION_TYPE_Transport: type 2', 0.21580223237733023]\n",
      "['FLAG_DOCUMENT_12', 0.1756295973482993]\n",
      "['NAME_FAMILY_STATUS_Unknown', 0.1756295973482951]\n",
      "['ORGANIZATION_TYPE_Telecom', 0.15560240850857393]\n",
      "['ORGANIZATION_TYPE_Industry: type 6', 0.13050460473369938]\n",
      "['WALLSMATERIAL_MODE_Others', 0.12168409708099122]\n",
      "['FLAG_MOBIL', 0.08781448802828866]\n",
      "['ORGANIZATION_TYPE_Housing', 0.06596766859494771]\n",
      "['NAME_TYPE_SUITE_Group of people', 0.06279786190750027]\n",
      "['WEEKDAY_APPR_PROCESS_START_THURSDAY', 0.06248222139719045]\n",
      "['OCCUPATION_TYPE_Realty agents', 0.047502992422252505]\n",
      "['FLAG_CONT_MOBILE', 0.04202031295679962]\n",
      "['ORGANIZATION_TYPE_Business Entity Type 1', 0.03559036062510191]\n",
      "['FLAG_DOCUMENT_5', 0.030400961436246685]\n",
      "['NAME_HOUSING_TYPE_Co-op apartment', 0.029878179535480394]\n",
      "['ORGANIZATION_TYPE_Legal Services', 0.017075865507918828]\n",
      "['FLAG_DOCUMENT_20', 0.014299943368137929]\n",
      "['ORGANIZATION_TYPE_Advertising', 0.0042740915763811145]\n",
      "['ORGANIZATION_TYPE_Industry: type 7', 0.0026789757814875345]\n",
      "['AMT_REQ_CREDIT_BUREAU_HOUR', 0.0016319594098787775]\n"
     ]
    }
   ],
   "source": [
    "feat_list = []\n",
    "cols = application_train.columns\n",
    "fs = SelectKBest(score_func=f_classif, k='all')\n",
    "fs.fit(X_train, target)\n",
    "\n",
    "idxs_selected = fs.get_support(indices=True)\n",
    "for i in idxs_selected:\n",
    "    feat_list.append([cols[i],fs.scores_[i]])   \n",
    "    \n",
    "feat_list.sort(key=getScore,reverse=True)\n",
    "for i in feat_list:\n",
    "    print(i)\n",
    "    "
   ]
  },
  {
   "cell_type": "markdown",
   "metadata": {},
   "source": [
    "# Préparation des prédictions\n",
    "Les données sont déséquilibrées car il y a un nombre élevé de clients qui remboursent le prêt par rapport aux clients qui ne le font pas. Pour éviter que le modèle ne tienne compte que des cas où les clients rembourse,\n",
    "nous allons devoir rééquilibrer les données. Nous allons essayer deux type de répartission :\n",
    "  - En prenant toutes les données de client qui ne remboursement pas (24825) et 1,5 fois plus de données (37238) où les clients remboursent.\n",
    "  - En utilisant un système d'augmentation de données **S**ynthetic **M**inority **O**ver-Sampling **T**Echnique (SMOTE) afin de garder un jeu de données conséquent.\n"
   ]
  },
  {
   "cell_type": "code",
   "execution_count": 21,
   "metadata": {},
   "outputs": [
    {
     "data": {
      "image/png": "[encoded data removed]",
      "text/plain": [
       "<Figure size 720x432 with 1 Axes>"
      ]
     },
     "metadata": {
      "needs_background": "light"
     },
     "output_type": "display_data"
    }
   ],
   "source": [
    "fig, ax = plt.subplots(1, 1, figsize=(10,6), constrained_layout=True)\n",
    "ax.set(xlabel=\"Remboursement\", ylabel='Total', title='Répartition des données') \n",
    "sns.barplot(x=target.value_counts().index, y=target.value_counts());\n",
    "plt.show()"
   ]
  },
  {
   "cell_type": "code",
   "execution_count": 22,
   "metadata": {},
   "outputs": [
    {
     "name": "stdout",
     "output_type": "stream",
     "text": [
      "24824 clients qui ne rembourse pas leur crédit\n",
      "282686 clients qui rembourse leur crédit\n"
     ]
    }
   ],
   "source": [
    "print(f\"{(target == 1).sum()} clients qui ne rembourse pas leur crédit\")\n",
    "print(f\"{(target == 0).sum()} clients qui rembourse leur crédit\")"
   ]
  },
  {
   "cell_type": "markdown",
   "metadata": {},
   "source": [
    "## Partage équitable entre TARGET == 1 et TRAGET == 0"
   ]
  },
  {
   "cell_type": "code",
   "execution_count": 23,
   "metadata": {},
   "outputs": [],
   "source": [
    "def equiTarget(df, target):    \n",
    "    rus = RandomUnderSampler(random_state=42)\n",
    "    train, target = rus.fit_resample(df, target)    \n",
    "    return train, target"
   ]
  },
  {
   "cell_type": "markdown",
   "metadata": {},
   "source": [
    "### Smote\n"
   ]
  },
  {
   "cell_type": "code",
   "execution_count": 24,
   "metadata": {},
   "outputs": [],
   "source": [
    "def smote(df, target):    \n",
    "    smote = SMOTE(sampling_strategy='auto', random_state=42)\n",
    "    train, target = smote.fit_sample(df, target)        \n",
    "    return train, target"
   ]
  },
  {
   "cell_type": "code",
   "execution_count": 25,
   "metadata": {},
   "outputs": [],
   "source": [
    "def sample(df, target, frac):\n",
    "    df['TARGET'] = target\n",
    "    df = df.sample(frac=frac, random_state=42)\n",
    "    target = df['TARGET']\n",
    "    df = df.drop('TARGET', axis=1)\n",
    "    return  df, target"
   ]
  },
  {
   "cell_type": "markdown",
   "metadata": {},
   "source": [
    "# Évaluation de scoring\n",
    "La problématique de la société \"Prêt à dépenser\" est d'identifier les clients ayant un fort risque de ne pas rembourser, car ceux-ci représentent un coût pour la société et elle ne doit pas refuser les clients succestibles de rembourser. Il faut donc identifier les clients qui vont faire perdre de l'argent à la société et ceux qui vont en faire gagner.\n",
    "\n",
    "|                 | Prédit non solvable| Prédit solvable |\n",
    "|:----------------|:-------------------|:----------------|\n",
    "|**Non solvable** | Vrai positif       | faux négatif    |\n",
    "|**Solvable**     | faux positif       | vrai négatif    |\n",
    "\n",
    "Le modèle utilisé devra éviter les **faux négatifs**, c'est à dire prédire que le client est solvable alors qu'il ne l'ai pas. cela fait perdre de l'argenty à la société. Il devra aussi éviter les **faux positifs**, c'est à dire que le clinet n'est pas solvable alors qu'il est.\n",
    "\n",
    "\n",
    "Nous utiliserons une courbe ROC (receiver operating characteristic) qui représente les performances du modèle pour tous les seuils de classification. Cette courbe trace le taux de vrais positifs en fonction du taux de faux positifs :\n",
    "\n",
    " - Le taux de vrais positifs (TVP) qui est l'équivalent du rappel. Il est donc défini comme suit : \n",
    "   - $TVP = \\frac{VP}{VP + FN}$\n",
    " \n",
    " - Le taux de faux positifs (TFP) est défini comme suit :\n",
    "  - $TFP = \\frac{FP}{FP + VN}$\n",
    "\n",
    "Une courbe ROC trace les valeurs TVP et TFP pour différents seuils de classification. Diminuer la valeur du seuil de classification permet de classer plus d'éléments comme positifs, ce qui augmente le nombre de faux positifs et de vrais positifs.\n",
    "\n"
   ]
  },
  {
   "cell_type": "markdown",
   "metadata": {},
   "source": [
    "# Modèles\n",
    "Test de differents modèle.\n",
    "\n",
    "Tout d'abord nous allons utiliser le modèle Naïve Bayse comme base de travail avec notre jeu de données afin de déterminer le plus efficient. Pour chaque modèle nous testerons les variables afin de déterminer le nombre de variables optimales.\n",
    "\n",
    "Nous testerons ensuite des modèles linéaires : \n",
    " - LogisticRegression\n",
    " - SGDClassifier\n",
    "\n",
    "et non linéaire :\n",
    " - XGBRegressor\n",
    " - Random Forest\n"
   ]
  },
  {
   "cell_type": "code",
   "execution_count": 26,
   "metadata": {},
   "outputs": [],
   "source": [
    "def plot_roc_curve(fpr, tpr):\n",
    "    \"\"\"\n",
    "    Affichage de la courbe ROC\n",
    "    \"\"\"\n",
    "    plt.plot(fpr, tpr, color='orange', label='ROC')\n",
    "    plt.plot([0, 1], [0, 1], color='darkblue', linestyle='--')\n",
    "    plt.xlabel('Taux de faux positifs')\n",
    "    plt.ylabel('Taux de vrai positifs')\n",
    "    plt.title('courbe Receiver Operating Characteristic (ROC)')\n",
    "    plt.legend()\n",
    "    plt.show()\n"
   ]
  },
  {
   "cell_type": "code",
   "execution_count": 27,
   "metadata": {},
   "outputs": [],
   "source": [
    "def test_model(model,feat_list,data,target):\n",
    "    \"\"\"\n",
    "    Test un model donné\n",
    "    \"\"\"\n",
    "    \n",
    "    score_max = 0\n",
    "    nb_feature = 0\n",
    "    score_list = []\n",
    "    columns = []\n",
    "    count = 1\n",
    "    \n",
    "    for col in feat_list:\n",
    "        columns.append(col[0])\n",
    "        X = data[columns]\n",
    "    \n",
    "        X_train, X_test, y_train, y_test = train_test_split(data, target, shuffle=True) \n",
    "    \n",
    "        scaler = StandardScaler()\n",
    "        X_train = scaler.fit_transform(X_train)        \n",
    "        X_test = scaler.transform (X_test)\n",
    "        \n",
    "        model.fit(X_train, y_train)\n",
    "                     \n",
    "        preds_proba = model.predict_proba(X_test)[:,1]         \n",
    "        score = roc_auc_score(y_test,preds_proba)\n",
    "        \n",
    "        if score > score_max:\n",
    "            score_max = score\n",
    "            y = y_test\n",
    "            y_preds = preds_proba           \n",
    "            nb_feature = count\n",
    "        score_list.append(score)\n",
    "        count += 1\n",
    "        \n",
    "    print(f\"{nb_feature} est le nombre de variables optimales avec un roc_auc_score {score_max:.2f}\")\n",
    "    \n",
    "    fpr, tpr, thresholds = roc_curve(y, y_preds)\n",
    "    #plot_roc_curve(fpr, tpr)\n",
    "    return (fpr, tpr)\n",
    "        "
   ]
  },
  {
   "cell_type": "markdown",
   "metadata": {},
   "source": [
    "## Modèle de base (Naïve Bayse)\n",
    "La Classification naïve bayésienne est une classification probaliliste simple"
   ]
  },
  {
   "cell_type": "markdown",
   "metadata": {},
   "source": [
    "### Under-sampling "
   ]
  },
  {
   "cell_type": "code",
   "execution_count": 28,
   "metadata": {},
   "outputs": [
    {
     "name": "stdout",
     "output_type": "stream",
     "text": [
      "181 est le nombre de variables optimales avec un roc_auc_score 0.64\n"
     ]
    }
   ],
   "source": [
    "nb = GaussianNB()\n",
    "X,y = equiTarget(application_train, target)\n",
    "nb_eq_fpr, nb_eq_tpr = test_model(nb,feat_list,X,y)"
   ]
  },
  {
   "cell_type": "markdown",
   "metadata": {},
   "source": [
    "### SMOTE"
   ]
  },
  {
   "cell_type": "code",
   "execution_count": 29,
   "metadata": {},
   "outputs": [
    {
     "name": "stdout",
     "output_type": "stream",
     "text": [
      "81 est le nombre de variables optimales avec un roc_auc_score 0.76\n"
     ]
    }
   ],
   "source": [
    "nb = GaussianNB()\n",
    "X,y = smote(application_train, target)\n",
    "X,y = sample(X, y, 0.2)\n",
    "nb_sm_fpr, nb_sm_tpr = test_model(nb, feat_list, X, y)"
   ]
  },
  {
   "cell_type": "code",
   "execution_count": 30,
   "metadata": {},
   "outputs": [
    {
     "data": {
      "image/png": "[encoded data removed]",
      "text/plain": [
       "<Figure size 432x288 with 1 Axes>"
      ]
     },
     "metadata": {
      "needs_background": "light"
     },
     "output_type": "display_data"
    }
   ],
   "source": [
    "plt.plot(nb_eq_fpr, nb_eq_tpr, color='orange', label='Under Sampling')\n",
    "plt.plot(nb_sm_fpr, nb_sm_tpr, color='green', label='SMOTE')\n",
    "\n",
    "plt.plot([0, 1], [0, 1], color='darkblue', linestyle='--')\n",
    "plt.xlabel('Taux de faux positifs')\n",
    "plt.ylabel('Taux de vrai positifs')\n",
    "plt.title('courbe Receiver Operating Characteristic (ROC) for naive Bayse')\n",
    "plt.legend()\n",
    "plt.show()    "
   ]
  },
  {
   "cell_type": "markdown",
   "metadata": {},
   "source": [
    "Avec le modèle Naive Bayse, le score est plus élevé avec les données générées avec SMOTE."
   ]
  },
  {
   "cell_type": "markdown",
   "metadata": {},
   "source": [
    "# Test des modèles linéaires\n",
    "Un modèle linéaire est un modèle statistique dans lequel on cherche à exprimer une variable aléatoire Y en fonction de variables explicatives X sous forme d'un opérateur linéaire sur les paramètres inconnus B du modèle."
   ]
  },
  {
   "cell_type": "markdown",
   "metadata": {},
   "source": [
    "### Régression Logistique\n",
    "La régression logistique est une approche statistique qui est utilsée pour évaluer les relations entre une variable cible de type binaire et une ou plusieurs variables explicatives."
   ]
  },
  {
   "cell_type": "code",
   "execution_count": 31,
   "metadata": {},
   "outputs": [
    {
     "name": "stdout",
     "output_type": "stream",
     "text": [
      "116 est le nombre de variables optimales avec un roc_auc_score 0.75\n"
     ]
    }
   ],
   "source": [
    "lr = LogisticRegression(random_state=42, n_jobs=-1)\n",
    "X,y = equiTarget(application_train, target)\n",
    "lr_eq_fpr, lr_eq_tpr = test_model(lr,feat_list,X,y)"
   ]
  },
  {
   "cell_type": "code",
   "execution_count": 32,
   "metadata": {},
   "outputs": [
    {
     "name": "stdout",
     "output_type": "stream",
     "text": [
      "113 est le nombre de variables optimales avec un roc_auc_score 0.98\n"
     ]
    }
   ],
   "source": [
    "lr = LogisticRegression(random_state=42, n_jobs=-1)\n",
    "X,y = smote(application_train, target)\n",
    "X,y = sample(X, y, 0.2)\n",
    "nb_sm_fpr, nb_sm_tpr = test_model(lr,feat_list,X,y)"
   ]
  },
  {
   "cell_type": "code",
   "execution_count": 33,
   "metadata": {},
   "outputs": [
    {
     "data": {
      "image/png": "[encoded data removed]",
      "text/plain": [
       "<Figure size 432x288 with 1 Axes>"
      ]
     },
     "metadata": {
      "needs_background": "light"
     },
     "output_type": "display_data"
    }
   ],
   "source": [
    "plt.plot(lr_eq_fpr, lr_eq_tpr, color='orange', label='Under Sampling')\n",
    "plt.plot(nb_sm_fpr, nb_sm_tpr, color='green', label='SMOTE')\n",
    "\n",
    "plt.plot([0, 1], [0, 1], color='darkblue', linestyle='--')\n",
    "plt.xlabel('Taux de faux positifs')\n",
    "plt.ylabel('Taux de vrai positifs')\n",
    "plt.title('Courbe Receiver Operating Characteristic (ROC) avec une régression logistique')\n",
    "plt.legend()\n",
    "plt.show()  "
   ]
  },
  {
   "cell_type": "markdown",
   "metadata": {},
   "source": [
    "### SGDClassifier\n",
    "La descente de gradient stochastique est un modèle linéaire qui utilise des lots de données pour calculer le gradient à chaque itération. "
   ]
  },
  {
   "cell_type": "code",
   "execution_count": 34,
   "metadata": {},
   "outputs": [
    {
     "name": "stdout",
     "output_type": "stream",
     "text": [
      "5 est le nombre de variables optimales avec un roc_auc_score 0.73\n"
     ]
    }
   ],
   "source": [
    "sgdc = SGDClassifier(penalty='l2', loss='log', random_state=42, n_jobs=-1)\n",
    "X,y = equiTarget(application_train, target)\n",
    "sg_eq_fpr, sg_eq_tpr = test_model(sgdc,feat_list,X,y)"
   ]
  },
  {
   "cell_type": "code",
   "execution_count": 35,
   "metadata": {},
   "outputs": [
    {
     "name": "stdout",
     "output_type": "stream",
     "text": [
      "188 est le nombre de variables optimales avec un roc_auc_score 0.98\n"
     ]
    }
   ],
   "source": [
    "sgdc = SGDClassifier(penalty='l2', loss='log', random_state=42, n_jobs=-1)\n",
    "X,y = smote(application_train, target)\n",
    "X,y = sample(X, y, 0.2)\n",
    "sg_sm_fpr, sg_sm_tpr = test_model(sgdc,feat_list,X,y)"
   ]
  },
  {
   "cell_type": "code",
   "execution_count": 36,
   "metadata": {},
   "outputs": [
    {
     "data": {
      "image/png": "[encoded data removed]",
      "text/plain": [
       "<Figure size 432x288 with 1 Axes>"
      ]
     },
     "metadata": {
      "needs_background": "light"
     },
     "output_type": "display_data"
    }
   ],
   "source": [
    "plt.plot(sg_eq_fpr, sg_eq_tpr, color='orange', label='Under Sampling')\n",
    "plt.plot(sg_sm_fpr, sg_sm_tpr, color='green', label='SMOTE')\n",
    "\n",
    "plt.plot([0, 1], [0, 1], color='darkblue', linestyle='--')\n",
    "plt.xlabel('Taux de faux positifs')\n",
    "plt.ylabel('Taux de vrai positifs')\n",
    "plt.title('Courbe Receiver Operating Characteristic (ROC) avec une régression logistique')\n",
    "plt.legend()\n",
    "plt.show()  "
   ]
  },
  {
   "cell_type": "markdown",
   "metadata": {},
   "source": [
    "Le score du modèle SGDClassifier est moins bon que le modèle de base. Il ne sera donc pas sélectionné."
   ]
  },
  {
   "cell_type": "markdown",
   "metadata": {},
   "source": [
    "# Test de modèles non linéaires"
   ]
  },
  {
   "cell_type": "markdown",
   "metadata": {},
   "source": [
    "### Light Gradient Boosting Mechanism\n",
    "LightGBM est un algorithme d'amplification des gradients en ajoutant un type de sélection automatique des caractéristiques et en se concentrant sur des exemples d'amplification avec des gradients plus importants. \n",
    "\n",
    "Nous utiliserons aussi la fonctionnalité d'entrainement de jeu de données déséquilibré qui existe pour cet algorithme."
   ]
  },
  {
   "cell_type": "code",
   "execution_count": 37,
   "metadata": {},
   "outputs": [
    {
     "name": "stdout",
     "output_type": "stream",
     "text": [
      "112 est le nombre de variables optimales avec un roc_auc_score 0.77\n"
     ]
    }
   ],
   "source": [
    "lg = LGBMClassifier(random_state=42, n_jobs=-1,is_unbalance=False )\n",
    "X,y = equiTarget(application_train, target)\n",
    "lg_eq_fpr, lg_eq_tpr = test_model(lg,feat_list,X,y)"
   ]
  },
  {
   "cell_type": "code",
   "execution_count": 38,
   "metadata": {},
   "outputs": [
    {
     "name": "stdout",
     "output_type": "stream",
     "text": [
      "81 est le nombre de variables optimales avec un roc_auc_score 0.98\n"
     ]
    }
   ],
   "source": [
    "lg = LGBMClassifier(random_state=42, n_jobs=-1,is_unbalance=False )\n",
    "X,y = smote(application_train, target)\n",
    "X,y = sample(X, y, 0.2)\n",
    "lg_sm_fpr, lg_sm_tpr = test_model(lg,feat_list,X,y)"
   ]
  },
  {
   "cell_type": "code",
   "execution_count": 39,
   "metadata": {},
   "outputs": [
    {
     "name": "stdout",
     "output_type": "stream",
     "text": [
      "201 est le nombre de variables optimales avec un roc_auc_score 0.77\n"
     ]
    }
   ],
   "source": [
    "lg = LGBMClassifier(random_state=42, n_jobs=-1,is_unbalance=True )\n",
    "lg_fu_fpr, lg_fu_tpr = test_model(lg,feat_list,application_train,target)"
   ]
  },
  {
   "cell_type": "code",
   "execution_count": 40,
   "metadata": {},
   "outputs": [
    {
     "data": {
      "image/png": "[encoded data removed]",
      "text/plain": [
       "<Figure size 432x288 with 1 Axes>"
      ]
     },
     "metadata": {
      "needs_background": "light"
     },
     "output_type": "display_data"
    }
   ],
   "source": [
    "plt.plot(lg_eq_fpr, lg_eq_tpr, color='orange', label='Under Sampling')\n",
    "plt.plot(lg_sm_fpr, lg_sm_tpr, color='green', label='SMOTE')\n",
    "plt.plot(lg_fu_fpr, lg_fu_tpr, color='blue', label='Unbalanced')\n",
    "\n",
    "plt.plot([0, 1], [0, 1], color='darkblue', linestyle='--')\n",
    "plt.xlabel('Taux de faux positifs')\n",
    "plt.ylabel('Taux de vrai positifs')\n",
    "plt.title('Courbe Receiver Operating Characteristic (ROC) avec une régression logistique')\n",
    "plt.legend()\n",
    "plt.show()  "
   ]
  },
  {
   "cell_type": "markdown",
   "metadata": {},
   "source": [
    "L'utilisation de SMOTE pour le modèle LightGBM montre clairement un sur apprentissage. En revanche l'utilsation du paramètre unbalanced ou une nombre limité d'observation ont un score assez proche."
   ]
  },
  {
   "cell_type": "markdown",
   "metadata": {},
   "source": [
    "## Random Forest\n",
    "L'algorithme des fôrets aléatoires est constitué d'un ensemble d'arbres de décision indépendants qui seront ensuite assemblés. "
   ]
  },
  {
   "cell_type": "code",
   "execution_count": 41,
   "metadata": {},
   "outputs": [
    {
     "name": "stdout",
     "output_type": "stream",
     "text": [
      "130 est le nombre de variables optimales avec un roc_auc_score 0.75\n"
     ]
    }
   ],
   "source": [
    "rfc = RandomForestClassifier(random_state=42,n_jobs=-1)\n",
    "X,y = equiTarget(application_train, target)\n",
    "rf_eq_fpr, rf_eq_tpr = test_model(rfc,feat_list,X,y)"
   ]
  },
  {
   "cell_type": "code",
   "execution_count": 42,
   "metadata": {},
   "outputs": [
    {
     "name": "stdout",
     "output_type": "stream",
     "text": [
      "79 est le nombre de variables optimales avec un roc_auc_score 0.98\n"
     ]
    }
   ],
   "source": [
    "rfc = RandomForestClassifier(random_state=42,n_jobs=-1)\n",
    "X,y = smote(application_train, target)\n",
    "X,y = sample(X, y, 0.2)\n",
    "rf_sm_fpr, rf_sm_tpr = test_model(rfc,feat_list,X,y)"
   ]
  },
  {
   "cell_type": "code",
   "execution_count": 43,
   "metadata": {},
   "outputs": [
    {
     "data": {
      "image/png": "[encoded data removed]",
      "text/plain": [
       "<Figure size 432x288 with 1 Axes>"
      ]
     },
     "metadata": {
      "needs_background": "light"
     },
     "output_type": "display_data"
    }
   ],
   "source": [
    "plt.plot(rf_eq_fpr, rf_eq_tpr, color='orange', label='Under Sampling')\n",
    "plt.plot(rf_sm_fpr, rf_sm_tpr, color='green', label='SMOTE')\n",
    "\n",
    "plt.plot([0, 1], [0, 1], color='darkblue', linestyle='--')\n",
    "plt.xlabel('Taux de faux positifs')\n",
    "plt.ylabel('Taux de vrai positifs')\n",
    "plt.title('Courbe Receiver Operating Characteristic (ROC) avec une régression logistique')\n",
    "plt.legend()\n",
    "plt.show()  "
   ]
  },
  {
   "cell_type": "markdown",
   "metadata": {},
   "source": [
    "# Sauvegarde du dataset"
   ]
  },
  {
   "cell_type": "code",
   "execution_count": 46,
   "metadata": {},
   "outputs": [],
   "source": [
    "# Sélection des variables explicatives\n",
    "nb_col = 112\n",
    "columns = []\n",
    "for col in feat_list:\n",
    "    columns.append(col[0])\n",
    "    nb_col -= 1\n",
    "    if nb_col <= 0:\n",
    "        break\n",
    "\n",
    "df = application_train[columns]\n",
    "df['TARGET'] = target"
   ]
  },
  {
   "cell_type": "code",
   "execution_count": 47,
   "metadata": {},
   "outputs": [],
   "source": [
    "df.to_csv(base_directory + \"application-clean.csv\", index=False)"
   ]
  },
  {
   "cell_type": "markdown",
   "metadata": {},
   "source": [
    "# Conclusion"
   ]
  },
  {
   "cell_type": "markdown",
   "metadata": {},
   "source": [
    "Les modèles linéaires ne semblent pas adaptés aux données, les modèles **LightGBM** et **Random Forest** ayant de bien meilleures performances.\n",
    "\n",
    "Le modèle LightGBM avec 56 paramètres obtient un score de 0.77, il sera donc celui qui sera optimisé."
   ]
  },
  {
   "cell_type": "code",
   "execution_count": null,
   "metadata": {},
   "outputs": [],
   "source": []
  }
 ],
 "metadata": {
  "kernelspec": {
   "display_name": "Python 3",
   "language": "python",
   "name": "python3"
  },
  "language_info": {
   "codemirror_mode": {
    "name": "ipython",
    "version": 3
   },
   "file_extension": ".py",
   "mimetype": "text/x-python",
   "name": "python",
   "nbconvert_exporter": "python",
   "pygments_lexer": "ipython3",
   "version": "3.8.5"
  }
 },
 "nbformat": 4,
 "nbformat_minor": 4
}
